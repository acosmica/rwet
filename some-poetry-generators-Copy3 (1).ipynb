{
 "cells": [
  {
   "cell_type": "markdown",
   "metadata": {},
   "source": [
    "When you have had the experience of working in a cafe, you can understand how, after some times, some words get exhausting to hear. The repetition of the same words, same costumers orders, same sentences, same thing everyday. When I was prompted for this assignment and read the poem A House of Dust, I instantly imagined it could represent this anxiety of repetition of the same food, the same locations, the same things over and over even if they alternate.\n",
    "That's the concept behind this experiment. "
   ]
  },
  {
   "cell_type": "markdown",
   "metadata": {},
   "source": [
    "## A House of Dust\n",
    "\n",
    "Original written in Fortran in 1967 by Alison Knowles and James Tenney. [ELMCIP entry](https://elmcip.net/creative-work/house-dust). [More information](http://blog.calarts.edu/2009/09/10/alison-knowles-james-tenney-and-the-house-of-dust-at-calarts/). [Watch Alison Knowles read from this piece](https://www.youtube.com/watch?v=-68Z708lFsY)."
   ]
  },
  {
   "cell_type": "code",
   "execution_count": 7,
   "metadata": {},
   "outputs": [],
   "source": [
    "import random"
   ]
  },
  {
   "cell_type": "code",
   "execution_count": 8,
   "metadata": {},
   "outputs": [],
   "source": [
    "materials = [\n",
    "    'bread',\n",
    "    'bagels',\n",
    "    'pastries',\n",
    "    'donuts'\n",
    "    \n",
    "]"
   ]
  },
  {
   "cell_type": "code",
   "execution_count": 9,
   "metadata": {},
   "outputs": [],
   "source": [
    "locations = [\n",
    "    'in the bakery',\n",
    "    'in the oven',\n",
    "    'in the plates',\n",
    "    'in the coffe shop'\n",
    "]"
   ]
  },
  {
   "cell_type": "code",
   "execution_count": 10,
   "metadata": {},
   "outputs": [],
   "source": [
    "lights = [\n",
    "    'oven lights',\n",
    "    'shop lights', \n",
    "    'candle lights'\n",
    "]"
   ]
  },
  {
   "cell_type": "code",
   "execution_count": 11,
   "metadata": {},
   "outputs": [],
   "source": [
    "inhabitants = [\n",
    "    'french bread lovers',\n",
    "    'donuts addicteds',\n",
    "    'coffe people'\n",
    "]"
   ]
  },
  {
   "cell_type": "code",
   "execution_count": 12,
   "metadata": {},
   "outputs": [
    {
     "name": "stdout",
     "output_type": "stream",
     "text": [
      "\n",
      "A house of pastries\n",
      "     in the oven\n",
      "          using shop lights\n",
      "                inhabited by coffe people\n",
      "\n",
      "A house of bread\n",
      "     in the plates\n",
      "          using candle lights\n",
      "                inhabited by donuts addicteds\n",
      "\n",
      "A house of donuts\n",
      "     in the coffe shop\n",
      "          using candle lights\n",
      "                inhabited by coffe people\n",
      "\n",
      "A house of bagels\n",
      "     in the plates\n",
      "          using oven lights\n",
      "                inhabited by donuts addicteds\n",
      "\n",
      "A house of donuts\n",
      "     in the coffe shop\n",
      "          using shop lights\n",
      "                inhabited by french bread lovers\n",
      "\n",
      "A house of bread\n",
      "     in the oven\n",
      "          using oven lights\n",
      "                inhabited by donuts addicteds\n",
      "\n",
      "A house of pastries\n",
      "     in the bakery\n",
      "          using oven lights\n",
      "                inhabited by coffe people\n"
     ]
    }
   ],
   "source": [
    "stanza_count = 7\n",
    "for i in range(stanza_count):\n",
    "    print()\n",
    "    print(\"A house of \" + random.choice(materials))\n",
    "    print(\"     \" + random.choice(locations))\n",
    "    print(\"          using \" + random.choice(lights))\n",
    "    print(\"                inhabited by \" + random.choice(inhabitants))"
   ]
  }
 ],
 "metadata": {
  "kernelspec": {
   "display_name": "Python 3 (ipykernel)",
   "language": "python",
   "name": "python3"
  },
  "language_info": {
   "codemirror_mode": {
    "name": "ipython",
    "version": 3
   },
   "file_extension": ".py",
   "mimetype": "text/x-python",
   "name": "python",
   "nbconvert_exporter": "python",
   "pygments_lexer": "ipython3",
   "version": "3.9.13"
  }
 },
 "nbformat": 4,
 "nbformat_minor": 2
}
