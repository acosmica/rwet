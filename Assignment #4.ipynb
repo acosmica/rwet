{
 "cells": [
  {
   "cell_type": "code",
   "execution_count": 10,
   "id": "b357eb15",
   "metadata": {},
   "outputs": [
    {
     "name": "stdout",
     "output_type": "stream",
     "text": [
      "Collecting package metadata (current_repodata.json): done\n",
      "Solving environment: done\n",
      "\n",
      "# All requested packages already installed.\n",
      "\n"
     ]
    }
   ],
   "source": [
    "import sys\n",
    "!conda install -c conda-forge -y --prefix {sys.prefix} spacy"
   ]
  },
  {
   "cell_type": "code",
   "execution_count": null,
   "id": "f9322526",
   "metadata": {},
   "outputs": [],
   "source": [
    "import spacy"
   ]
  },
  {
   "cell_type": "code",
   "execution_count": 12,
   "id": "f2ed1977",
   "metadata": {},
   "outputs": [
    {
     "name": "stdout",
     "output_type": "stream",
     "text": [
      "Collecting en-core-web-md==3.5.0\n",
      "  Downloading https://github.com/explosion/spacy-models/releases/download/en_core_web_md-3.5.0/en_core_web_md-3.5.0-py3-none-any.whl (42.8 MB)\n",
      "\u001b[2K     \u001b[90m━━━━━━━━━━━━━━━━━━━━━━━━━━━━━━━━━━━━━━━━\u001b[0m \u001b[32m42.8/42.8 MB\u001b[0m \u001b[31m27.2 MB/s\u001b[0m eta \u001b[36m0:00:00\u001b[0m00:01\u001b[0m00:01\u001b[0m\n",
      "\u001b[?25hRequirement already satisfied: spacy<3.6.0,>=3.5.0 in /Users/mica/opt/anaconda3/lib/python3.9/site-packages (from en-core-web-md==3.5.0) (3.5.1)\n",
      "Requirement already satisfied: cymem<2.1.0,>=2.0.2 in /Users/mica/opt/anaconda3/lib/python3.9/site-packages (from spacy<3.6.0,>=3.5.0->en-core-web-md==3.5.0) (2.0.7)\n",
      "Requirement already satisfied: preshed<3.1.0,>=3.0.2 in /Users/mica/opt/anaconda3/lib/python3.9/site-packages (from spacy<3.6.0,>=3.5.0->en-core-web-md==3.5.0) (3.0.8)\n",
      "Requirement already satisfied: numpy>=1.15.0 in /Users/mica/opt/anaconda3/lib/python3.9/site-packages (from spacy<3.6.0,>=3.5.0->en-core-web-md==3.5.0) (1.21.5)\n",
      "Requirement already satisfied: setuptools in /Users/mica/opt/anaconda3/lib/python3.9/site-packages (from spacy<3.6.0,>=3.5.0->en-core-web-md==3.5.0) (63.4.1)\n",
      "Requirement already satisfied: langcodes<4.0.0,>=3.2.0 in /Users/mica/opt/anaconda3/lib/python3.9/site-packages (from spacy<3.6.0,>=3.5.0->en-core-web-md==3.5.0) (3.3.0)\n",
      "Requirement already satisfied: spacy-legacy<3.1.0,>=3.0.11 in /Users/mica/opt/anaconda3/lib/python3.9/site-packages (from spacy<3.6.0,>=3.5.0->en-core-web-md==3.5.0) (3.0.12)\n",
      "Requirement already satisfied: tqdm<5.0.0,>=4.38.0 in /Users/mica/opt/anaconda3/lib/python3.9/site-packages (from spacy<3.6.0,>=3.5.0->en-core-web-md==3.5.0) (4.64.1)\n",
      "Requirement already satisfied: thinc<8.2.0,>=8.1.8 in /Users/mica/opt/anaconda3/lib/python3.9/site-packages (from spacy<3.6.0,>=3.5.0->en-core-web-md==3.5.0) (8.1.8)\n",
      "Requirement already satisfied: requests<3.0.0,>=2.13.0 in /Users/mica/opt/anaconda3/lib/python3.9/site-packages (from spacy<3.6.0,>=3.5.0->en-core-web-md==3.5.0) (2.28.1)\n",
      "Requirement already satisfied: smart-open<7.0.0,>=5.2.1 in /Users/mica/opt/anaconda3/lib/python3.9/site-packages (from spacy<3.6.0,>=3.5.0->en-core-web-md==3.5.0) (5.2.1)\n",
      "Requirement already satisfied: packaging>=20.0 in /Users/mica/opt/anaconda3/lib/python3.9/site-packages (from spacy<3.6.0,>=3.5.0->en-core-web-md==3.5.0) (21.3)\n",
      "Requirement already satisfied: wasabi<1.2.0,>=0.9.1 in /Users/mica/opt/anaconda3/lib/python3.9/site-packages (from spacy<3.6.0,>=3.5.0->en-core-web-md==3.5.0) (1.1.1)\n",
      "Requirement already satisfied: spacy-loggers<2.0.0,>=1.0.0 in /Users/mica/opt/anaconda3/lib/python3.9/site-packages (from spacy<3.6.0,>=3.5.0->en-core-web-md==3.5.0) (1.0.4)\n",
      "Requirement already satisfied: murmurhash<1.1.0,>=0.28.0 in /Users/mica/opt/anaconda3/lib/python3.9/site-packages (from spacy<3.6.0,>=3.5.0->en-core-web-md==3.5.0) (1.0.9)\n",
      "Requirement already satisfied: jinja2 in /Users/mica/opt/anaconda3/lib/python3.9/site-packages (from spacy<3.6.0,>=3.5.0->en-core-web-md==3.5.0) (2.11.3)\n",
      "Requirement already satisfied: srsly<3.0.0,>=2.4.3 in /Users/mica/opt/anaconda3/lib/python3.9/site-packages (from spacy<3.6.0,>=3.5.0->en-core-web-md==3.5.0) (2.4.6)\n",
      "Requirement already satisfied: pydantic!=1.8,!=1.8.1,<1.11.0,>=1.7.4 in /Users/mica/opt/anaconda3/lib/python3.9/site-packages (from spacy<3.6.0,>=3.5.0->en-core-web-md==3.5.0) (1.10.5)\n",
      "Requirement already satisfied: catalogue<2.1.0,>=2.0.6 in /Users/mica/opt/anaconda3/lib/python3.9/site-packages (from spacy<3.6.0,>=3.5.0->en-core-web-md==3.5.0) (2.0.8)\n",
      "Requirement already satisfied: pathy>=0.10.0 in /Users/mica/opt/anaconda3/lib/python3.9/site-packages (from spacy<3.6.0,>=3.5.0->en-core-web-md==3.5.0) (0.10.1)\n",
      "Requirement already satisfied: typer<0.8.0,>=0.3.0 in /Users/mica/opt/anaconda3/lib/python3.9/site-packages (from spacy<3.6.0,>=3.5.0->en-core-web-md==3.5.0) (0.7.0)\n",
      "Requirement already satisfied: pyparsing!=3.0.5,>=2.0.2 in /Users/mica/opt/anaconda3/lib/python3.9/site-packages (from packaging>=20.0->spacy<3.6.0,>=3.5.0->en-core-web-md==3.5.0) (3.0.9)\n",
      "Requirement already satisfied: typing-extensions>=4.2.0 in /Users/mica/opt/anaconda3/lib/python3.9/site-packages (from pydantic!=1.8,!=1.8.1,<1.11.0,>=1.7.4->spacy<3.6.0,>=3.5.0->en-core-web-md==3.5.0) (4.3.0)\n",
      "Requirement already satisfied: certifi>=2017.4.17 in /Users/mica/opt/anaconda3/lib/python3.9/site-packages (from requests<3.0.0,>=2.13.0->spacy<3.6.0,>=3.5.0->en-core-web-md==3.5.0) (2022.9.24)\n",
      "Requirement already satisfied: urllib3<1.27,>=1.21.1 in /Users/mica/opt/anaconda3/lib/python3.9/site-packages (from requests<3.0.0,>=2.13.0->spacy<3.6.0,>=3.5.0->en-core-web-md==3.5.0) (1.26.11)\n",
      "Requirement already satisfied: idna<4,>=2.5 in /Users/mica/opt/anaconda3/lib/python3.9/site-packages (from requests<3.0.0,>=2.13.0->spacy<3.6.0,>=3.5.0->en-core-web-md==3.5.0) (3.3)\n",
      "Requirement already satisfied: charset-normalizer<3,>=2 in /Users/mica/opt/anaconda3/lib/python3.9/site-packages (from requests<3.0.0,>=2.13.0->spacy<3.6.0,>=3.5.0->en-core-web-md==3.5.0) (2.0.4)\n",
      "Requirement already satisfied: confection<1.0.0,>=0.0.1 in /Users/mica/opt/anaconda3/lib/python3.9/site-packages (from thinc<8.2.0,>=8.1.8->spacy<3.6.0,>=3.5.0->en-core-web-md==3.5.0) (0.0.4)\n",
      "Requirement already satisfied: blis<0.8.0,>=0.7.8 in /Users/mica/opt/anaconda3/lib/python3.9/site-packages (from thinc<8.2.0,>=8.1.8->spacy<3.6.0,>=3.5.0->en-core-web-md==3.5.0) (0.7.9)\n",
      "Requirement already satisfied: click<9.0.0,>=7.1.1 in /Users/mica/opt/anaconda3/lib/python3.9/site-packages (from typer<0.8.0,>=0.3.0->spacy<3.6.0,>=3.5.0->en-core-web-md==3.5.0) (8.0.4)\n",
      "Requirement already satisfied: MarkupSafe>=0.23 in /Users/mica/opt/anaconda3/lib/python3.9/site-packages (from jinja2->spacy<3.6.0,>=3.5.0->en-core-web-md==3.5.0) (2.0.1)\n",
      "\u001b[38;5;2m✔ Download and installation successful\u001b[0m\n",
      "You can now load the package via spacy.load('en_core_web_md')\n"
     ]
    }
   ],
   "source": [
    "!{sys.executable} -m spacy download en_core_web_md"
   ]
  },
  {
   "cell_type": "code",
   "execution_count": 13,
   "id": "e85e7e1c",
   "metadata": {},
   "outputs": [],
   "source": [
    "import spacy"
   ]
  },
  {
   "cell_type": "code",
   "execution_count": 14,
   "id": "09044524",
   "metadata": {},
   "outputs": [],
   "source": [
    "nlp= spacy.load ('en_core_web_md')"
   ]
  },
  {
   "cell_type": "code",
   "execution_count": 15,
   "id": "2b15727c",
   "metadata": {},
   "outputs": [],
   "source": [
    "clarice= open (\"clariceegg.txt\").read()"
   ]
  },
  {
   "cell_type": "code",
   "execution_count": 16,
   "id": "cb07e82b",
   "metadata": {},
   "outputs": [],
   "source": [
    "eggs= open (\"eggsexpensive.txt\").read()"
   ]
  },
  {
   "cell_type": "code",
   "execution_count": 18,
   "id": "5b90957b",
   "metadata": {},
   "outputs": [],
   "source": [
    "doc= nlp(clarice)"
   ]
  },
  {
   "cell_type": "code",
   "execution_count": 19,
   "id": "00895ac0",
   "metadata": {},
   "outputs": [],
   "source": [
    "doc2= nlp(eggs)"
   ]
  },
  {
   "cell_type": "code",
   "execution_count": 20,
   "id": "e05cd594",
   "metadata": {},
   "outputs": [],
   "source": [
    "sentences= list(doc.sents)"
   ]
  },
  {
   "cell_type": "code",
   "execution_count": 21,
   "id": "a5648dbb",
   "metadata": {},
   "outputs": [],
   "source": [
    "sentences2= list(doc2.sents)"
   ]
  },
  {
   "cell_type": "code",
   "execution_count": 22,
   "id": "02996073",
   "metadata": {},
   "outputs": [],
   "source": [
    "import random"
   ]
  },
  {
   "cell_type": "code",
   "execution_count": 23,
   "id": "abe0b700",
   "metadata": {
    "scrolled": true
   },
   "outputs": [
    {
     "data": {
      "text/plain": [
       "In the morning the egg is lying on the kitchen table.\n"
      ]
     },
     "execution_count": 23,
     "metadata": {},
     "output_type": "execute_result"
    }
   ],
   "source": [
    "random.choice(sentences)"
   ]
  },
  {
   "cell_type": "code",
   "execution_count": 24,
   "id": "d15c7e2e",
   "metadata": {},
   "outputs": [
    {
     "data": {
      "text/plain": [
       "Chicken prices went up 10.5% and, together, fruit and vegetable prices increased 7.2%. "
      ]
     },
     "execution_count": 24,
     "metadata": {},
     "output_type": "execute_result"
    }
   ],
   "source": [
    "random.choice(sentences2)"
   ]
  },
  {
   "cell_type": "code",
   "execution_count": 26,
   "id": "eef4612e",
   "metadata": {},
   "outputs": [],
   "source": [
    "words = [w for w in list(doc) if w.is_alpha]"
   ]
  },
  {
   "cell_type": "code",
   "execution_count": 27,
   "id": "86f6f518",
   "metadata": {},
   "outputs": [],
   "source": [
    "words2 = [x for x in list(doc2) if x.is_alpha]"
   ]
  },
  {
   "cell_type": "code",
   "execution_count": 30,
   "id": "fc0884db",
   "metadata": {},
   "outputs": [],
   "source": [
    "entities = list(doc.ents)"
   ]
  },
  {
   "cell_type": "code",
   "execution_count": 31,
   "id": "1711d31b",
   "metadata": {},
   "outputs": [
    {
     "data": {
      "text/plain": [
       "without"
      ]
     },
     "execution_count": 31,
     "metadata": {},
     "output_type": "execute_result"
    }
   ],
   "source": [
    "random.choice(words)"
   ]
  },
  {
   "cell_type": "code",
   "execution_count": 32,
   "id": "6ee58517",
   "metadata": {},
   "outputs": [
    {
     "data": {
      "text/plain": [
       "the month"
      ]
     },
     "execution_count": 32,
     "metadata": {},
     "output_type": "execute_result"
    }
   ],
   "source": [
    "random.choice(noun_chunks2)"
   ]
  },
  {
   "cell_type": "code",
   "execution_count": 33,
   "id": "62bf3380",
   "metadata": {},
   "outputs": [
    {
     "data": {
      "text/plain": [
       "Vision"
      ]
     },
     "execution_count": 33,
     "metadata": {},
     "output_type": "execute_result"
    }
   ],
   "source": [
    "random.choice(entities)"
   ]
  },
  {
   "cell_type": "code",
   "execution_count": 36,
   "id": "6e1f07f6",
   "metadata": {},
   "outputs": [],
   "source": [
    "nouns= [w for w in words if w.pos_ == \"NOUN\"]\n",
    "verbs= [w for w in words if w.pos_ == \"VERB\"]\n",
    "adjs= [w for w in words if w.pos_ == \"ADJ\"]\n",
    "advs= [w for w in words if w.pos_ == \"ADV\"]"
   ]
  },
  {
   "cell_type": "code",
   "execution_count": 37,
   "id": "fd3e90c3",
   "metadata": {},
   "outputs": [],
   "source": [
    "nouns2= [x for x in words2 if x.pos_ == \"NOUN\"]\n",
    "verbs2= [x for x in words2 if x.pos_ == \"VERB\"]\n",
    "adjs2= [x for x in words2 if x.pos_ == \"ADJ\"]\n",
    "advs2= [x for x in words2 if x.pos_ == \"ADV\"]"
   ]
  },
  {
   "cell_type": "code",
   "execution_count": 38,
   "id": "49c58614",
   "metadata": {},
   "outputs": [
    {
     "name": "stdout",
     "output_type": "stream",
     "text": [
      "[transportation, egg, price]\n",
      "[egg, prices, year]\n",
      "[grocery, prices, prices]\n",
      "[food, attempts, tools]\n",
      "[egg, foods, prices]\n",
      "[prices, milk, food]\n",
      "[year, turmoil, prices]\n"
     ]
    }
   ],
   "source": [
    "for i in range(7):\n",
    "    print(random.sample(nouns2,3))"
   ]
  },
  {
   "cell_type": "code",
   "execution_count": 39,
   "id": "5b7a0fd4",
   "metadata": {},
   "outputs": [
    {
     "name": "stdout",
     "output_type": "stream",
     "text": [
      "egg present vision\n",
      "promise egg egg\n",
      "thought egg egg\n",
      "egg past egg\n",
      "years thought egg\n",
      "man egg glance\n",
      "day egg egg\n"
     ]
    }
   ],
   "source": [
    "for i in range(7):\n",
    "    print(\" \".join ([w.text for w in random.sample(nouns,3)]))"
   ]
  },
  {
   "cell_type": "code",
   "execution_count": 40,
   "id": "dd7d96bb",
   "metadata": {},
   "outputs": [
    {
     "name": "stdout",
     "output_type": "stream",
     "text": [
      "the instant egg\n",
      "the only man\n",
      "the single egg\n",
      "the late years\n",
      "the able egg\n",
      "the single egg\n",
      "the only egg\n",
      "the capable man\n",
      "the impossible egg\n",
      "the supersonic lightning\n",
      "the able egg\n",
      "the late table\n",
      "the sudden egg\n",
      "the single egg\n",
      "the supersonic egg\n",
      "the brief lightning\n",
      "the impossible day\n",
      "the sudden vision\n",
      "the essential table\n",
      "the same day\n"
     ]
    }
   ],
   "source": [
    "for i in range(20):\n",
    "    print (\"the \"+ random.choice(adjs).text + \" \" + random.choice(nouns).text)"
   ]
  },
  {
   "cell_type": "markdown",
   "id": "9a75e2be",
   "metadata": {},
   "source": [
    "## entities"
   ]
  },
  {
   "cell_type": "code",
   "execution_count": 41,
   "id": "04a9d554",
   "metadata": {},
   "outputs": [
    {
     "data": {
      "text/plain": [
       "[the morning, three thousand years, Vision]"
      ]
     },
     "execution_count": 41,
     "metadata": {},
     "output_type": "execute_result"
    }
   ],
   "source": [
    "entities"
   ]
  },
  {
   "cell_type": "code",
   "execution_count": 42,
   "id": "a536b737",
   "metadata": {},
   "outputs": [],
   "source": [
    "people= [item for item in entities if item.label_ == \"PERSON\"]\n",
    "art= [item for item in entities if item.label_ == \"WORK_OF_ART\"]"
   ]
  },
  {
   "cell_type": "code",
   "execution_count": 43,
   "id": "64173464",
   "metadata": {},
   "outputs": [
    {
     "data": {
      "text/plain": [
       "[]"
      ]
     },
     "execution_count": 43,
     "metadata": {},
     "output_type": "execute_result"
    }
   ],
   "source": [
    "people"
   ]
  },
  {
   "cell_type": "code",
   "execution_count": 44,
   "id": "2df5f04b",
   "metadata": {},
   "outputs": [
    {
     "data": {
      "text/plain": [
       "[]"
      ]
     },
     "execution_count": 44,
     "metadata": {},
     "output_type": "execute_result"
    }
   ],
   "source": [
    "art"
   ]
  },
  {
   "cell_type": "code",
   "execution_count": 45,
   "id": "d0ed6811",
   "metadata": {},
   "outputs": [],
   "source": [
    "eggs = open (\"eggsexpensive.txt\").read ()"
   ]
  },
  {
   "cell_type": "code",
   "execution_count": 46,
   "id": "6150c6c0",
   "metadata": {},
   "outputs": [],
   "source": [
    "clean = clarice.split ('\\n')"
   ]
  },
  {
   "cell_type": "code",
   "execution_count": 47,
   "id": "ad53ddfa",
   "metadata": {},
   "outputs": [],
   "source": [
    "lines= eggs.split ('\\n')"
   ]
  },
  {
   "cell_type": "code",
   "execution_count": 48,
   "id": "9f55cfc4",
   "metadata": {},
   "outputs": [
    {
     "name": "stdout",
     "output_type": "stream",
     "text": [
      "In the morning the egg is lying on the kitchen table.\n",
      "Eggs are 70% more expensive than they were a year ago\n",
      "Like a man who, in order to understand the present, must have had a past. \n",
      "\n",
      "The year jumped like the late table.\n",
      "To see the egg is the promise of being able to see the egg again one day. \n",
      "\n",
      "The prices according like the sudden egg.\n",
      "Does thought intervene? No, there is no thought: there is only the egg. \n",
      "\n",
      "The prices hit like the late lightning.\n",
      "It is impossible actually to see the egg. \n",
      "\n",
      "The egg rose like the brief egg.\n",
      "It is impossible actually to see the egg. \n",
      "\n",
      "The Breakfast were like the only lightning.\n",
      "Does thought intervene? No, there is no thought: there is only the egg. \n",
      "\n",
      "The transportation got like the sudden egg.\n",
      "The egg is supravisable just as there are supersonic sounds the ear can no longer hear.\n",
      "\n",
      "The grocery compared like the supersonic memory.\n",
      "The very instant an egg is seen, it becomes the memory of an egg. \n",
      "\n",
      "The price seen like the instant past.\n",
      "Individually, it does not exist.\n",
      "\n",
      "The Breakfast falling like the impossible years.\n",
      "The egg is supravisable just as there are supersonic sounds the ear can no longer hear.\n",
      "\n",
      "The prices got like the instant past.\n"
     ]
    }
   ],
   "source": [
    "print(clean[0])\n",
    "print (lines[0])\n",
    "for i in range (10):\n",
    "    print(random.choice(clean)+ \"\\n\")\n",
    "    print(\"The \"+ random.choice(nouns2).text + \" \" + random.choice(verbs2).text + \" like the \" + random.choice(adjs).text + \" \" + random.choice(nouns).text + \".\")\n",
    "\n",
    "\n"
   ]
  }
 ],
 "metadata": {
  "kernelspec": {
   "display_name": "Python 3 (ipykernel)",
   "language": "python",
   "name": "python3"
  },
  "language_info": {
   "codemirror_mode": {
    "name": "ipython",
    "version": 3
   },
   "file_extension": ".py",
   "mimetype": "text/x-python",
   "name": "python",
   "nbconvert_exporter": "python",
   "pygments_lexer": "ipython3",
   "version": "3.9.13"
  }
 },
 "nbformat": 4,
 "nbformat_minor": 5
}
